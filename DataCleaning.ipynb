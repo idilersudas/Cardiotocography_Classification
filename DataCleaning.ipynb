{
 "cells": [
  {
   "cell_type": "markdown",
   "id": "c6e7f5f1-cb79-48c8-bb78-a61c111735c4",
   "metadata": {},
   "source": [
    "# Data Cleaning and Preprocessing"
   ]
  },
  {
   "cell_type": "code",
   "execution_count": 2,
   "id": "cdc5d329-69da-40a1-aafb-7269fe799155",
   "metadata": {},
   "outputs": [],
   "source": [
    "import pandas as pd\n",
    "import numpy as np"
   ]
  },
  {
   "cell_type": "code",
   "execution_count": 3,
   "id": "da3c9e02-fa1d-462a-81a4-762208d264ab",
   "metadata": {},
   "outputs": [
    {
     "name": "stdout",
     "output_type": "stream",
     "text": [
      "     Unnamed: 0 Unnamed: 1 Unnamed: 2 Unnamed: 3 Unnamed: 4 Unnamed: 5  \\\n",
      "0             b          e         AC         FM         UC         DL   \n",
      "1           240        357          0          0          0          0   \n",
      "2             5        632          4          0          4          2   \n",
      "3           177        779          2          0          5          2   \n",
      "4           411       1192          2          0          6          2   \n",
      "...         ...        ...        ...        ...        ...        ...   \n",
      "2125       1576       3049          1          0          9          0   \n",
      "2126       2796       3415          1          1          5          0   \n",
      "2127        NaN        NaN        NaN        NaN        NaN        NaN   \n",
      "2128        NaN        NaN        NaN        NaN        NaN          0   \n",
      "2129        NaN        NaN        NaN        564         23         16   \n",
      "\n",
      "     Unnamed: 6 Unnamed: 7 Unnamed: 8  Unnamed: 9  ... Unnamed: 36  \\\n",
      "0            DS         DP         DR         NaN  ...           E   \n",
      "1             0          0          0         NaN  ...          -1   \n",
      "2             0          0          0         NaN  ...          -1   \n",
      "3             0          0          0         NaN  ...          -1   \n",
      "4             0          0          0         NaN  ...          -1   \n",
      "...         ...        ...        ...         ...  ...         ...   \n",
      "2125          0          0          0         NaN  ...           1   \n",
      "2126          0          0          0         NaN  ...          -1   \n",
      "2127        NaN        NaN        NaN         NaN  ...         NaN   \n",
      "2128          0          0          0         NaN  ...          72   \n",
      "2129          1          4          0         NaN  ...         NaN   \n",
      "\n",
      "     Unnamed: 37 Unnamed: 38 Unnamed: 39 Unnamed: 40 Unnamed: 41 Unnamed: 42  \\\n",
      "0             AD          DE          LD          FS        SUSP         NaN   \n",
      "1             -1          -1          -1           1          -1         NaN   \n",
      "2              1          -1          -1          -1          -1         NaN   \n",
      "3              1          -1          -1          -1          -1         NaN   \n",
      "4              1          -1          -1          -1          -1         NaN   \n",
      "...          ...         ...         ...         ...         ...         ...   \n",
      "2125          -1          -1          -1          -1          -1         NaN   \n",
      "2126          -1          -1          -1          -1          -1         NaN   \n",
      "2127         NaN         NaN         NaN         NaN         NaN         NaN   \n",
      "2128         332         252         107          69         197         NaN   \n",
      "2129         NaN         NaN         NaN         NaN         NaN         NaN   \n",
      "\n",
      "         22 Unnamed: 44   23  \n",
      "0     CLASS         NaN  NSP  \n",
      "1         9         NaN    2  \n",
      "2         6         NaN    1  \n",
      "3         6         NaN    1  \n",
      "4         6         NaN    1  \n",
      "...     ...         ...  ...  \n",
      "2125      5         NaN    2  \n",
      "2126      1         NaN    1  \n",
      "2127    NaN         NaN  NaN  \n",
      "2128    NaN         NaN  NaN  \n",
      "2129    NaN         NaN  NaN  \n",
      "\n",
      "[2130 rows x 46 columns]\n"
     ]
    }
   ],
   "source": [
    "# Load the cleaned CTG dataset from a CSV file into a pandas DataFrame\n",
    "CTG = pd.read_csv(\"data/CTG_data.csv\", header=0)\n",
    "print(CTG)"
   ]
  },
  {
   "cell_type": "code",
   "execution_count": 4,
   "id": "c68249cc-463c-41b0-b25a-e7910ca991a2",
   "metadata": {},
   "outputs": [
    {
     "name": "stdout",
     "output_type": "stream",
     "text": [
      "     1      2      3      4      5      6      7     8     9    10  ...   14  \\\n",
      "0   LB     AC     FM     UC     DL     DS     DP  ASTV  MSTV  ALTV  ...  Max   \n",
      "1  120  0.000  0.000  0.000  0.000  0.000  0.000    73   0.5    43  ...  126   \n",
      "2  132  0.006  0.000  0.006  0.003  0.000  0.000    17   2.1     0  ...  198   \n",
      "3  133  0.003  0.000  0.008  0.003  0.000  0.000    16   2.1     0  ...  198   \n",
      "4  134  0.003  0.000  0.008  0.003  0.000  0.000    16   2.4     0  ...  170   \n",
      "\n",
      "     15      16    17    18      19        20        21     22   23  \n",
      "0  Nmax  Nzeros  Mode  Mean  Median  Variance  Tendency  CLASS  NSP  \n",
      "1     2       0   120   137     121        73         1      9    2  \n",
      "2     6       1   141   136     140        12         0      6    1  \n",
      "3     5       1   141   135     138        13         0      6    1  \n",
      "4    11       0   137   134     137        13         1      6    1  \n",
      "\n",
      "[5 rows x 23 columns]\n"
     ]
    }
   ],
   "source": [
    "# Identify and drop any columns that contain 'Unnamed' in their name\n",
    "columns_to_drop = [col for col in CTG.columns if 'Unnamed' in col]\n",
    "CTG = CTG.drop(columns=columns_to_drop)\n",
    "print(CTG.head())\n",
    "# Define a dictionary to rename the columns to more descriptive names\n",
    "new_column_names = {\n",
    "    '1': 'FHR_Baseline',\n",
    "    '2': 'Accelerations',\n",
    "    '3': 'Fetal_Movements',\n",
    "    '4': 'Uterine_Contractions',\n",
    "    '5': 'Light_Decels',\n",
    "    '6': 'Severe_Decels',\n",
    "    '7': 'Prolonged_Decels',\n",
    "    '8': 'Abnormal_STV_Percent',\n",
    "    '9': 'STV_Mean',\n",
    "    '10': 'Abnormal_LTV_Percent',\n",
    "    '11': 'LTV_Mean',\n",
    "    '12': 'Hist_Width',\n",
    "    '13': 'Hist_Min',\n",
    "    '14': 'Hist_Max',\n",
    "    '15': 'Hist_Peaks',\n",
    "    '16': 'Hist_Zeros',\n",
    "    '17': 'Hist_Mode',\n",
    "    '18': 'Hist_Mean',\n",
    "    '19': 'Hist_Median',\n",
    "    '20': 'Hist_Variance',\n",
    "    '21': 'Hist_Tendency',\n",
    "    '22': 'FHR_Class',\n",
    "    '23': 'Fetal_State'\n",
    "}\n",
    "# Rename the columns in the DataFrame using the new descriptive names\n",
    "CTG.rename(columns=new_column_names, inplace=True)"
   ]
  },
  {
   "cell_type": "code",
   "execution_count": 5,
   "id": "b5de9a14-25d6-41cd-883f-8a2d0c130bca",
   "metadata": {},
   "outputs": [
    {
     "name": "stdout",
     "output_type": "stream",
     "text": [
      "Column Number: 23\n",
      "Column Names: ['FHR_Baseline', 'Accelerations', 'Fetal_Movements', 'Uterine_Contractions', 'Light_Decels', 'Severe_Decels', 'Prolonged_Decels', 'Abnormal_STV_Percent', 'STV_Mean', 'Abnormal_LTV_Percent', 'LTV_Mean', 'Hist_Width', 'Hist_Min', 'Hist_Max', 'Hist_Peaks', 'Hist_Zeros', 'Hist_Mode', 'Hist_Mean', 'Hist_Median', 'Hist_Variance', 'Hist_Tendency', 'FHR_Class', 'Fetal_State']\n",
      "\n",
      "Number of Missing Values for Each Column:\n",
      "FHR_Baseline            3\n",
      "Accelerations           3\n",
      "Fetal_Movements         2\n",
      "Uterine_Contractions    2\n",
      "Light_Decels            1\n",
      "Severe_Decels           1\n",
      "Prolonged_Decels        1\n",
      "Abnormal_STV_Percent    2\n",
      "STV_Mean                2\n",
      "Abnormal_LTV_Percent    2\n",
      "LTV_Mean                2\n",
      "Hist_Width              3\n",
      "Hist_Min                3\n",
      "Hist_Max                3\n",
      "Hist_Peaks              3\n",
      "Hist_Zeros              3\n",
      "Hist_Mode               3\n",
      "Hist_Mean               3\n",
      "Hist_Median             3\n",
      "Hist_Variance           3\n",
      "Hist_Tendency           3\n",
      "FHR_Class               3\n",
      "Fetal_State             3\n",
      "dtype: int64\n",
      "\n",
      "Number of Unique Values for Each Column:\n",
      "FHR_Baseline             49\n",
      "Accelerations            21\n",
      "Fetal_Movements         103\n",
      "Uterine_Contractions     17\n",
      "Light_Decels             17\n",
      "Severe_Decels             3\n",
      "Prolonged_Decels          7\n",
      "Abnormal_STV_Percent     77\n",
      "STV_Mean                 59\n",
      "Abnormal_LTV_Percent     89\n",
      "LTV_Mean                251\n",
      "Hist_Width              155\n",
      "Hist_Min                110\n",
      "Hist_Max                 87\n",
      "Hist_Peaks               19\n",
      "Hist_Zeros               10\n",
      "Hist_Mode                89\n",
      "Hist_Mean               104\n",
      "Hist_Median              96\n",
      "Hist_Variance           134\n",
      "Hist_Tendency             4\n",
      "FHR_Class                11\n",
      "Fetal_State               4\n",
      "dtype: int64\n"
     ]
    }
   ],
   "source": [
    "# Check column names and the number of columns\n",
    "print(\"Column Number:\", len(CTG.columns))\n",
    "print(\"Column Names:\", CTG.columns.tolist())\n",
    "\n",
    "# Check the number of missing values for each column\n",
    "print(\"\\nNumber of Missing Values for Each Column:\")\n",
    "print(CTG.isnull().sum())\n",
    "\n",
    "# Check the number of unique values for each column\n",
    "print(\"\\nNumber of Unique Values for Each Column:\")\n",
    "print(CTG.nunique())"
   ]
  },
  {
   "cell_type": "code",
   "execution_count": 6,
   "id": "0d15b9f1-dd8a-405e-9698-307efbc6fbad",
   "metadata": {},
   "outputs": [
    {
     "name": "stdout",
     "output_type": "stream",
     "text": [
      "Number of missing values in each column:\n",
      " FHR_Baseline            4\n",
      "Accelerations           4\n",
      "Fetal_Movements         3\n",
      "Uterine_Contractions    3\n",
      "Light_Decels            2\n",
      "Severe_Decels           2\n",
      "Prolonged_Decels        2\n",
      "Abnormal_STV_Percent    3\n",
      "STV_Mean                3\n",
      "Abnormal_LTV_Percent    3\n",
      "LTV_Mean                3\n",
      "Hist_Width              4\n",
      "Hist_Min                4\n",
      "Hist_Max                4\n",
      "Hist_Peaks              4\n",
      "Hist_Zeros              4\n",
      "Hist_Mode               4\n",
      "Hist_Mean               4\n",
      "Hist_Median             4\n",
      "Hist_Variance           4\n",
      "Hist_Tendency           4\n",
      "FHR_Class               4\n",
      "Fetal_State             4\n",
      "dtype: int64\n"
     ]
    }
   ],
   "source": [
    "# Convert each column to the appropriate numeric type\n",
    "for col in CTG.columns:\n",
    "    CTG[col] = pd.to_numeric(CTG[col], errors='coerce')\n",
    "\n",
    "# Check for missing values (count those that were converted to NaN)\n",
    "missing_values = CTG.isnull().sum()\n",
    "print(\"Number of missing values in each column:\\n\", missing_values)"
   ]
  },
  {
   "cell_type": "code",
   "execution_count": 7,
   "id": "1fad10a0-7809-42d3-83a1-54ebff5775af",
   "metadata": {},
   "outputs": [
    {
     "name": "stdout",
     "output_type": "stream",
     "text": [
      "Removed 4 rows with missing data.\n",
      "<class 'pandas.core.frame.DataFrame'>\n",
      "Index: 2126 entries, 1 to 2126\n",
      "Data columns (total 23 columns):\n",
      " #   Column                Non-Null Count  Dtype  \n",
      "---  ------                --------------  -----  \n",
      " 0   FHR_Baseline          2126 non-null   float64\n",
      " 1   Accelerations         2126 non-null   float64\n",
      " 2   Fetal_Movements       2126 non-null   float64\n",
      " 3   Uterine_Contractions  2126 non-null   float64\n",
      " 4   Light_Decels          2126 non-null   float64\n",
      " 5   Severe_Decels         2126 non-null   float64\n",
      " 6   Prolonged_Decels      2126 non-null   float64\n",
      " 7   Abnormal_STV_Percent  2126 non-null   float64\n",
      " 8   STV_Mean              2126 non-null   float64\n",
      " 9   Abnormal_LTV_Percent  2126 non-null   float64\n",
      " 10  LTV_Mean              2126 non-null   float64\n",
      " 11  Hist_Width            2126 non-null   float64\n",
      " 12  Hist_Min              2126 non-null   float64\n",
      " 13  Hist_Max              2126 non-null   float64\n",
      " 14  Hist_Peaks            2126 non-null   float64\n",
      " 15  Hist_Zeros            2126 non-null   float64\n",
      " 16  Hist_Mode             2126 non-null   float64\n",
      " 17  Hist_Mean             2126 non-null   float64\n",
      " 18  Hist_Median           2126 non-null   float64\n",
      " 19  Hist_Variance         2126 non-null   float64\n",
      " 20  Hist_Tendency         2126 non-null   float64\n",
      " 21  FHR_Class             2126 non-null   float64\n",
      " 22  Fetal_State           2126 non-null   float64\n",
      "dtypes: float64(23)\n",
      "memory usage: 398.6 KB\n",
      "None\n"
     ]
    }
   ],
   "source": [
    "# Record the number of rows before cleaning missing data\n",
    "initial_row_count = len(CTG)\n",
    "\n",
    "# Your other data cleaning operations can continue at this point...\n",
    "# Remove rows with missing data after replacing inf values with NaN\n",
    "CTG = CTG.replace([np.inf, -np.inf], np.nan).dropna()\n",
    "CTG_clean = CTG.dropna()\n",
    "\n",
    "# Record the number of rows after cleaning missing data\n",
    "final_row_count = len(CTG_clean)\n",
    "\n",
    "# Calculate and print the number of rows removed\n",
    "rows_removed = initial_row_count - final_row_count\n",
    "print(f\"Removed {rows_removed} rows with missing data.\")\n",
    "\n",
    "# Check the final state of the dataset\n",
    "print(CTG_clean.info())"
   ]
  },
  {
   "cell_type": "code",
   "execution_count": 8,
   "id": "fdc766a7-8c7a-45f2-af83-75be7cdcb914",
   "metadata": {},
   "outputs": [
    {
     "data": {
      "text/plain": [
       "0"
      ]
     },
     "execution_count": 8,
     "metadata": {},
     "output_type": "execute_result"
    }
   ],
   "source": [
    "# Check for any duiplicate values in the data set and if there are any drop them from dataset\n",
    "CTG.loc[CTG.duplicated()]\n",
    "CTG.drop_duplicates(inplace = True)\n",
    "CTG.duplicated().sum()"
   ]
  },
  {
   "cell_type": "code",
   "execution_count": 9,
   "id": "fa7ad174-3e4b-4dc8-ace6-d7bb2e0055a4",
   "metadata": {},
   "outputs": [
    {
     "data": {
      "text/plain": [
       "(2115, 23)"
      ]
     },
     "execution_count": 9,
     "metadata": {},
     "output_type": "execute_result"
    }
   ],
   "source": [
    "# Check the final state of the dataset\n",
    "CTG = CTG.reset_index(drop = True)\n",
    "CTG.shape"
   ]
  },
  {
   "cell_type": "code",
   "execution_count": 10,
   "id": "2ff86e75-e7a5-4493-a836-d53da206bebc",
   "metadata": {},
   "outputs": [],
   "source": [
    "# Save the cleansed dataset to a new csv file\n",
    "CTG.to_csv(\"data/CTG_clean.csv\", index=False)"
   ]
  }
 ],
 "metadata": {
  "kernelspec": {
   "display_name": "Python 3 (ipykernel)",
   "language": "python",
   "name": "python3"
  },
  "language_info": {
   "codemirror_mode": {
    "name": "ipython",
    "version": 3
   },
   "file_extension": ".py",
   "mimetype": "text/x-python",
   "name": "python",
   "nbconvert_exporter": "python",
   "pygments_lexer": "ipython3",
   "version": "3.11.7"
  }
 },
 "nbformat": 4,
 "nbformat_minor": 5
}
